{
 "cells": [
  {
   "cell_type": "code",
   "execution_count": 44,
   "id": "8a7cc9d8",
   "metadata": {},
   "outputs": [],
   "source": [
    "from sentence_transformers import SentenceTransformer\n",
    "from langchain.prompts import PromptTemplate\n",
    "from langchain.chains import LLMChain\n",
    "from langchain_community.llms import Ollama\n",
    "import faiss\n",
    "import pandas as pd\n",
    "import numpy as np\n",
    "import pickle\n",
    "import time\n",
    "from tqdm import tqdm"
   ]
  },
  {
   "cell_type": "code",
   "execution_count": 4,
   "id": "cc9a49d2",
   "metadata": {},
   "outputs": [],
   "source": [
    "# Load the FAISS index\n",
    "index = faiss.read_index(\"database/pdf_sections_index.faiss\")"
   ]
  },
  {
   "cell_type": "code",
   "execution_count": 5,
   "id": "9af39b55",
   "metadata": {},
   "outputs": [],
   "source": [
    "model = SentenceTransformer('all-MiniLM-L6-v2')"
   ]
  },
  {
   "cell_type": "code",
   "execution_count": 15,
   "id": "182bdbd8",
   "metadata": {},
   "outputs": [],
   "source": [
    "def search_faiss(query, k=3):\n",
    "    query_vector = model.encode([query])[0].astype('float32')\n",
    "    query_vector = np.expand_dims(query_vector, axis=0)\n",
    "    distances, indices = index.search(query_vector, k)\n",
    "    \n",
    "    results = []\n",
    "    for dist, idx in zip(distances[0], indices[0]):\n",
    "        results.append({\n",
    "            'distance': dist,\n",
    "            'content': sections_data[idx]['content'],\n",
    "            'metadata': sections_data[idx]['metadata']\n",
    "        })\n",
    "    \n",
    "    return results"
   ]
  },
  {
   "cell_type": "code",
   "execution_count": 33,
   "id": "67edc46a",
   "metadata": {},
   "outputs": [],
   "source": [
    "# Create a prompt template\n",
    "prompt_template = \"\"\"\n",
    "You are an AI assistant specialized in dietary guidelines. Use the following pieces of context to answer the question at the end under 30 words. If you don't know the answer, just say that you don't know, don't try to make up an answer.\n",
    "\n",
    "Context:\n",
    "{context}\n",
    "\n",
    "Question: {question}\n",
    "\n",
    "Answer:\"\"\"\n",
    "\n",
    "prompt = PromptTemplate(template=prompt_template, input_variables=[\"context\", \"question\"])\n",
    "\n",
    "llm = Ollama(\n",
    "    model=\"llama3\"\n",
    ")"
   ]
  },
  {
   "cell_type": "code",
   "execution_count": 34,
   "id": "bec562aa",
   "metadata": {},
   "outputs": [],
   "source": [
    "# Create the chain\n",
    "chain = LLMChain(llm=llm, prompt=prompt)\n",
    "\n",
    "def answer_question(query):\n",
    "    # Search for relevant context\n",
    "    search_results = search_faiss(query)\n",
    "    \n",
    "    # Combine the content from the search results\n",
    "    context = \"\\n\\n\".join([result['content'] for result in search_results])\n",
    "\n",
    "    # Run the chain\n",
    "    response = chain.run(context=context, question=query)\n",
    "    \n",
    "    return response"
   ]
  },
  {
   "cell_type": "code",
   "execution_count": 32,
   "id": "4ab68dff",
   "metadata": {},
   "outputs": [],
   "source": [
    "qa_pairs = pd.read_csv('data/QA_pairs.csv')"
   ]
  },
  {
   "cell_type": "code",
   "execution_count": 45,
   "id": "4e7e22d7",
   "metadata": {},
   "outputs": [
    {
     "name": "stderr",
     "output_type": "stream",
     "text": [
      "100%|███████████████████████████████████████████| 10/10 [00:46<00:00,  4.68s/it]\n"
     ]
    }
   ],
   "source": [
    "time_list=[]\n",
    "response_list=[]\n",
    "for i in tqdm(range(len(qa_pairs))):\n",
    "    query = qa_pairs['Questions'].values[i]\n",
    "    start = time.time()\n",
    "    response = answer_question(query)\n",
    "    end = time.time()   \n",
    "    time_list.append(end-start)\n",
    "    response_list.append(response)"
   ]
  },
  {
   "cell_type": "code",
   "execution_count": null,
   "id": "4dd50da6",
   "metadata": {},
   "outputs": [],
   "source": []
  },
  {
   "cell_type": "code",
   "execution_count": 27,
   "id": "10cff8f7",
   "metadata": {},
   "outputs": [],
   "source": [
    "# Example usage\n",
    "query = \"What are the most common mental disorders mentioned in the handbook?\""
   ]
  },
  {
   "cell_type": "code",
   "execution_count": 16,
   "id": "d7f6e907",
   "metadata": {},
   "outputs": [],
   "source": [
    "# Example usage\n",
    "query = \"What are the most common mental disorders mentioned in the handbook?\""
   ]
  },
  {
   "cell_type": "code",
   "execution_count": 17,
   "id": "5566a016",
   "metadata": {},
   "outputs": [],
   "source": [
    "results = search_faiss(query)"
   ]
  },
  {
   "cell_type": "code",
   "execution_count": 13,
   "id": "e729459b",
   "metadata": {},
   "outputs": [],
   "source": [
    "with open('database/pdf_sections_data.pkl', 'rb') as f:\n",
    "        sections_data = pickle.load(f)"
   ]
  },
  {
   "cell_type": "code",
   "execution_count": 21,
   "id": "7aa76f68",
   "metadata": {},
   "outputs": [],
   "source": [
    "import pandas as pd\n",
    "qa_pairs = pd.read_csv('data/QA_pairs.csv')"
   ]
  },
  {
   "cell_type": "code",
   "execution_count": null,
   "id": "866e5d59",
   "metadata": {},
   "outputs": [],
   "source": [
    "for "
   ]
  }
 ],
 "metadata": {
  "kernelspec": {
   "display_name": "Python 3 (ipykernel)",
   "language": "python",
   "name": "python3"
  },
  "language_info": {
   "codemirror_mode": {
    "name": "ipython",
    "version": 3
   },
   "file_extension": ".py",
   "mimetype": "text/x-python",
   "name": "python",
   "nbconvert_exporter": "python",
   "pygments_lexer": "ipython3",
   "version": "3.11.5"
  }
 },
 "nbformat": 4,
 "nbformat_minor": 5
}
